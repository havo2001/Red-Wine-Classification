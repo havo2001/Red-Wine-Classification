{
 "cells": [
  {
   "cell_type": "markdown",
   "id": "dad78a6d-2658-4ad3-9bb7-6ab675c0980d",
   "metadata": {},
   "source": [
    "# RED WINE QUALITY RESEARCH"
   ]
  },
  {
   "cell_type": "markdown",
   "id": "5a5c1682-219e-4698-9374-87e89e6e058e",
   "metadata": {},
   "source": [
    "## 1. Reading the data and exploratory data analysis"
   ]
  },
  {
   "cell_type": "markdown",
   "id": "9303f11d-a40d-4575-aa62-90c23aa50c4a",
   "metadata": {},
   "source": [
    "<font size=\"3\"> \n",
    "    This datasets is related to red variants of the Portuguese \"Vinho Verde\" wine.\n",
    "    <br>The datasets can be viewed as classification or regression tasks. The classes are ordered and not balanced (e.g. there are much more normal wines than excellent or poor ones).\n",
    " \n",
    "\n",
    "</font>"
   ]
  },
  {
   "cell_type": "code",
   "execution_count": 206,
   "id": "a75adaf9-abe9-4e65-8203-67911dd69feb",
   "metadata": {},
   "outputs": [],
   "source": [
    "import pandas as pd\n",
    "import numpy as np\n",
    "import matplotlib.pyplot as plt\n",
    "import seaborn as sb"
   ]
  },
  {
   "cell_type": "code",
   "execution_count": 207,
   "id": "415cfa89-fb35-4974-863d-f41528f6b0a3",
   "metadata": {},
   "outputs": [],
   "source": [
    "dataset = pd.read_csv('winequality-red.csv')"
   ]
  },
  {
   "cell_type": "code",
   "execution_count": 208,
   "id": "a42bd9d8-f8bc-4aec-a546-1b9faebb7301",
   "metadata": {},
   "outputs": [
    {
     "data": {
      "text/html": [
       "<div>\n",
       "<style scoped>\n",
       "    .dataframe tbody tr th:only-of-type {\n",
       "        vertical-align: middle;\n",
       "    }\n",
       "\n",
       "    .dataframe tbody tr th {\n",
       "        vertical-align: top;\n",
       "    }\n",
       "\n",
       "    .dataframe thead th {\n",
       "        text-align: right;\n",
       "    }\n",
       "</style>\n",
       "<table border=\"1\" class=\"dataframe\">\n",
       "  <thead>\n",
       "    <tr style=\"text-align: right;\">\n",
       "      <th></th>\n",
       "      <th>fixed acidity</th>\n",
       "      <th>volatile acidity</th>\n",
       "      <th>citric acid</th>\n",
       "      <th>residual sugar</th>\n",
       "      <th>chlorides</th>\n",
       "      <th>free sulfur dioxide</th>\n",
       "      <th>total sulfur dioxide</th>\n",
       "      <th>density</th>\n",
       "      <th>pH</th>\n",
       "      <th>sulphates</th>\n",
       "      <th>alcohol</th>\n",
       "      <th>quality</th>\n",
       "    </tr>\n",
       "  </thead>\n",
       "  <tbody>\n",
       "    <tr>\n",
       "      <th>0</th>\n",
       "      <td>7.4</td>\n",
       "      <td>0.700</td>\n",
       "      <td>0.00</td>\n",
       "      <td>1.9</td>\n",
       "      <td>0.076</td>\n",
       "      <td>11.0</td>\n",
       "      <td>34.0</td>\n",
       "      <td>0.99780</td>\n",
       "      <td>3.51</td>\n",
       "      <td>0.56</td>\n",
       "      <td>9.4</td>\n",
       "      <td>5</td>\n",
       "    </tr>\n",
       "    <tr>\n",
       "      <th>1</th>\n",
       "      <td>7.8</td>\n",
       "      <td>0.880</td>\n",
       "      <td>0.00</td>\n",
       "      <td>2.6</td>\n",
       "      <td>0.098</td>\n",
       "      <td>25.0</td>\n",
       "      <td>67.0</td>\n",
       "      <td>0.99680</td>\n",
       "      <td>3.20</td>\n",
       "      <td>0.68</td>\n",
       "      <td>9.8</td>\n",
       "      <td>5</td>\n",
       "    </tr>\n",
       "    <tr>\n",
       "      <th>2</th>\n",
       "      <td>7.8</td>\n",
       "      <td>0.760</td>\n",
       "      <td>0.04</td>\n",
       "      <td>2.3</td>\n",
       "      <td>0.092</td>\n",
       "      <td>15.0</td>\n",
       "      <td>54.0</td>\n",
       "      <td>0.99700</td>\n",
       "      <td>3.26</td>\n",
       "      <td>0.65</td>\n",
       "      <td>9.8</td>\n",
       "      <td>5</td>\n",
       "    </tr>\n",
       "    <tr>\n",
       "      <th>3</th>\n",
       "      <td>11.2</td>\n",
       "      <td>0.280</td>\n",
       "      <td>0.56</td>\n",
       "      <td>1.9</td>\n",
       "      <td>0.075</td>\n",
       "      <td>17.0</td>\n",
       "      <td>60.0</td>\n",
       "      <td>0.99800</td>\n",
       "      <td>3.16</td>\n",
       "      <td>0.58</td>\n",
       "      <td>9.8</td>\n",
       "      <td>6</td>\n",
       "    </tr>\n",
       "    <tr>\n",
       "      <th>4</th>\n",
       "      <td>7.4</td>\n",
       "      <td>0.700</td>\n",
       "      <td>0.00</td>\n",
       "      <td>1.9</td>\n",
       "      <td>0.076</td>\n",
       "      <td>11.0</td>\n",
       "      <td>34.0</td>\n",
       "      <td>0.99780</td>\n",
       "      <td>3.51</td>\n",
       "      <td>0.56</td>\n",
       "      <td>9.4</td>\n",
       "      <td>5</td>\n",
       "    </tr>\n",
       "    <tr>\n",
       "      <th>...</th>\n",
       "      <td>...</td>\n",
       "      <td>...</td>\n",
       "      <td>...</td>\n",
       "      <td>...</td>\n",
       "      <td>...</td>\n",
       "      <td>...</td>\n",
       "      <td>...</td>\n",
       "      <td>...</td>\n",
       "      <td>...</td>\n",
       "      <td>...</td>\n",
       "      <td>...</td>\n",
       "      <td>...</td>\n",
       "    </tr>\n",
       "    <tr>\n",
       "      <th>1594</th>\n",
       "      <td>6.2</td>\n",
       "      <td>0.600</td>\n",
       "      <td>0.08</td>\n",
       "      <td>2.0</td>\n",
       "      <td>0.090</td>\n",
       "      <td>32.0</td>\n",
       "      <td>44.0</td>\n",
       "      <td>0.99490</td>\n",
       "      <td>3.45</td>\n",
       "      <td>0.58</td>\n",
       "      <td>10.5</td>\n",
       "      <td>5</td>\n",
       "    </tr>\n",
       "    <tr>\n",
       "      <th>1595</th>\n",
       "      <td>5.9</td>\n",
       "      <td>0.550</td>\n",
       "      <td>0.10</td>\n",
       "      <td>2.2</td>\n",
       "      <td>0.062</td>\n",
       "      <td>39.0</td>\n",
       "      <td>51.0</td>\n",
       "      <td>0.99512</td>\n",
       "      <td>3.52</td>\n",
       "      <td>0.76</td>\n",
       "      <td>11.2</td>\n",
       "      <td>6</td>\n",
       "    </tr>\n",
       "    <tr>\n",
       "      <th>1596</th>\n",
       "      <td>6.3</td>\n",
       "      <td>0.510</td>\n",
       "      <td>0.13</td>\n",
       "      <td>2.3</td>\n",
       "      <td>0.076</td>\n",
       "      <td>29.0</td>\n",
       "      <td>40.0</td>\n",
       "      <td>0.99574</td>\n",
       "      <td>3.42</td>\n",
       "      <td>0.75</td>\n",
       "      <td>11.0</td>\n",
       "      <td>6</td>\n",
       "    </tr>\n",
       "    <tr>\n",
       "      <th>1597</th>\n",
       "      <td>5.9</td>\n",
       "      <td>0.645</td>\n",
       "      <td>0.12</td>\n",
       "      <td>2.0</td>\n",
       "      <td>0.075</td>\n",
       "      <td>32.0</td>\n",
       "      <td>44.0</td>\n",
       "      <td>0.99547</td>\n",
       "      <td>3.57</td>\n",
       "      <td>0.71</td>\n",
       "      <td>10.2</td>\n",
       "      <td>5</td>\n",
       "    </tr>\n",
       "    <tr>\n",
       "      <th>1598</th>\n",
       "      <td>6.0</td>\n",
       "      <td>0.310</td>\n",
       "      <td>0.47</td>\n",
       "      <td>3.6</td>\n",
       "      <td>0.067</td>\n",
       "      <td>18.0</td>\n",
       "      <td>42.0</td>\n",
       "      <td>0.99549</td>\n",
       "      <td>3.39</td>\n",
       "      <td>0.66</td>\n",
       "      <td>11.0</td>\n",
       "      <td>6</td>\n",
       "    </tr>\n",
       "  </tbody>\n",
       "</table>\n",
       "<p>1599 rows × 12 columns</p>\n",
       "</div>"
      ],
      "text/plain": [
       "      fixed acidity  volatile acidity  citric acid  residual sugar  chlorides  \\\n",
       "0               7.4             0.700         0.00             1.9      0.076   \n",
       "1               7.8             0.880         0.00             2.6      0.098   \n",
       "2               7.8             0.760         0.04             2.3      0.092   \n",
       "3              11.2             0.280         0.56             1.9      0.075   \n",
       "4               7.4             0.700         0.00             1.9      0.076   \n",
       "...             ...               ...          ...             ...        ...   \n",
       "1594            6.2             0.600         0.08             2.0      0.090   \n",
       "1595            5.9             0.550         0.10             2.2      0.062   \n",
       "1596            6.3             0.510         0.13             2.3      0.076   \n",
       "1597            5.9             0.645         0.12             2.0      0.075   \n",
       "1598            6.0             0.310         0.47             3.6      0.067   \n",
       "\n",
       "      free sulfur dioxide  total sulfur dioxide  density    pH  sulphates  \\\n",
       "0                    11.0                  34.0  0.99780  3.51       0.56   \n",
       "1                    25.0                  67.0  0.99680  3.20       0.68   \n",
       "2                    15.0                  54.0  0.99700  3.26       0.65   \n",
       "3                    17.0                  60.0  0.99800  3.16       0.58   \n",
       "4                    11.0                  34.0  0.99780  3.51       0.56   \n",
       "...                   ...                   ...      ...   ...        ...   \n",
       "1594                 32.0                  44.0  0.99490  3.45       0.58   \n",
       "1595                 39.0                  51.0  0.99512  3.52       0.76   \n",
       "1596                 29.0                  40.0  0.99574  3.42       0.75   \n",
       "1597                 32.0                  44.0  0.99547  3.57       0.71   \n",
       "1598                 18.0                  42.0  0.99549  3.39       0.66   \n",
       "\n",
       "      alcohol  quality  \n",
       "0         9.4        5  \n",
       "1         9.8        5  \n",
       "2         9.8        5  \n",
       "3         9.8        6  \n",
       "4         9.4        5  \n",
       "...       ...      ...  \n",
       "1594     10.5        5  \n",
       "1595     11.2        6  \n",
       "1596     11.0        6  \n",
       "1597     10.2        5  \n",
       "1598     11.0        6  \n",
       "\n",
       "[1599 rows x 12 columns]"
      ]
     },
     "execution_count": 208,
     "metadata": {},
     "output_type": "execute_result"
    }
   ],
   "source": [
    "dataset"
   ]
  },
  {
   "cell_type": "code",
   "execution_count": 209,
   "id": "524412af-db48-48e7-8fef-8f85a6830c52",
   "metadata": {},
   "outputs": [
    {
     "name": "stdout",
     "output_type": "stream",
     "text": [
      "<class 'pandas.core.frame.DataFrame'>\n",
      "RangeIndex: 1599 entries, 0 to 1598\n",
      "Data columns (total 12 columns):\n",
      " #   Column                Non-Null Count  Dtype  \n",
      "---  ------                --------------  -----  \n",
      " 0   fixed acidity         1599 non-null   float64\n",
      " 1   volatile acidity      1599 non-null   float64\n",
      " 2   citric acid           1599 non-null   float64\n",
      " 3   residual sugar        1599 non-null   float64\n",
      " 4   chlorides             1599 non-null   float64\n",
      " 5   free sulfur dioxide   1599 non-null   float64\n",
      " 6   total sulfur dioxide  1599 non-null   float64\n",
      " 7   density               1599 non-null   float64\n",
      " 8   pH                    1599 non-null   float64\n",
      " 9   sulphates             1599 non-null   float64\n",
      " 10  alcohol               1599 non-null   float64\n",
      " 11  quality               1599 non-null   int64  \n",
      "dtypes: float64(11), int64(1)\n",
      "memory usage: 150.0 KB\n"
     ]
    }
   ],
   "source": [
    "dataset.info()"
   ]
  },
  {
   "cell_type": "markdown",
   "id": "78432cce-7362-455c-8424-9b99dfa18417",
   "metadata": {},
   "source": [
    "<font size=\"3\"> \n",
    "    \n",
    "<br> 1. Fixed acidity. The predominant fixed acids in wine, such as tartaric, succinic, citric, and malic acids.\n",
    "<br> 2. Volatile acidity. The high acetic acid present in wine, which causes an unpleasant vinegar taste.\n",
    "<br> 3. Citric acid. A weak organic acid used to increase the freshness and flavor of wine.\n",
    "<br> 4. Residual sugar. The amount of sugar left after fermentation.\n",
    "<br> 5. Chlorides. The amount of salt in wine. The lower chloride rate creates better quality wines.\n",
    "<br> 6. Free sulfur dioxide. SO2 is used for preventing wine from oxidation and microbial spoilage.\n",
    "<br> 7. Total sulfur dioxide. The amount of free and bound forms of SO2.\n",
    "<br> 8. Density. Depends on the alcohol and sugar content. Better wines usually have lower densities.\n",
    "<br> 9. pH. Used to check the level of acidity or alkalinity of wine.\n",
    "<br> 10. Sulfates. An antibacterial and antioxidant agent added to wine.\n",
    "<br> 11. Alcohol. The percentage of alcohol in wine. A higher concentration leads to better quality.\n",
    "\n",
    "</font>\n",
    "\n"
   ]
  },
  {
   "cell_type": "markdown",
   "id": "2523787c-d0b6-4741-b800-dac486a8422a",
   "metadata": {},
   "source": [
    "<font size=\"3\"> \n",
    "    Here we can see our dataset contains 12 columns, first 11 columns are the features and the last column quality is the target.\n",
    "<br>\n",
    "</font>\n"
   ]
  },
  {
   "cell_type": "code",
   "execution_count": 210,
   "id": "371e958b-fa69-498c-a774-af7a2194686f",
   "metadata": {},
   "outputs": [
    {
     "data": {
      "image/png": "[encoded data removed]",
      "text/plain": [
       "<Figure size 720x720 with 12 Axes>"
      ]
     },
     "metadata": {
      "needs_background": "light"
     },
     "output_type": "display_data"
    }
   ],
   "source": [
    "dataset.hist(bins=20, figsize=(10, 10))\n",
    "plt.show()"
   ]
  },
  {
   "cell_type": "markdown",
   "id": "c22314db-bece-4ef7-8ee5-51032eec82dd",
   "metadata": {},
   "source": [
    "<font size=\"3\"> \n",
    "    Here we can see the visualization of this distribution of value of each feature and the pattern.\n",
    "<br>\n",
    "</font>\n"
   ]
  },
  {
   "cell_type": "markdown",
   "id": "f0c00d5c-2f3f-4003-86bd-5345eaee69f4",
   "metadata": {},
   "source": [
    "#### Distribution of target 'quality'"
   ]
  },
  {
   "cell_type": "code",
   "execution_count": 211,
   "id": "088b58a8-51f0-4621-8098-b72d5a9d3bf7",
   "metadata": {},
   "outputs": [
    {
     "data": {
      "text/plain": [
       "<AxesSubplot:xlabel='quality', ylabel='count'>"
      ]
     },
     "execution_count": 211,
     "metadata": {},
     "output_type": "execute_result"
    },
    {
     "data": {
      "image/png": "[encoded data removed]",
      "text/plain": [
       "<Figure size 432x288 with 1 Axes>"
      ]
     },
     "metadata": {
      "needs_background": "light"
     },
     "output_type": "display_data"
    }
   ],
   "source": [
    "sb.countplot(dataset['quality'])"
   ]
  },
  {
   "cell_type": "markdown",
   "id": "0de06261-ff9c-4db6-93e1-2c9640219382",
   "metadata": {},
   "source": [
    "#### Bar plot\n",
    "<font size=\"3\">\n",
    "    A barplot shows the relationship between a numeric and a categoric variable.\n",
    "<font>\n",
    "    "
   ]
  },
  {
   "cell_type": "code",
   "execution_count": 212,
   "id": "d9d61ac7-c30d-4d0d-85a9-a18817ac89ef",
   "metadata": {},
   "outputs": [
    {
     "data": {
      "text/plain": [
       "<AxesSubplot:xlabel='quality', ylabel='alcohol'>"
      ]
     },
     "execution_count": 212,
     "metadata": {},
     "output_type": "execute_result"
    },
    {
     "data": {
      "image/png": "[encoded data removed]",
      "text/plain": [
       "<Figure size 432x288 with 1 Axes>"
      ]
     },
     "metadata": {
      "needs_background": "light"
     },
     "output_type": "display_data"
    }
   ],
   "source": [
    "sb.barplot(dataset['quality'], dataset['alcohol'])"
   ]
  },
  {
   "cell_type": "code",
   "execution_count": 213,
   "id": "802e8eb7-e2b4-4c87-a656-b8147585ea73",
   "metadata": {},
   "outputs": [
    {
     "data": {
      "text/plain": [
       "<AxesSubplot:xlabel='quality', ylabel='pH'>"
      ]
     },
     "execution_count": 213,
     "metadata": {},
     "output_type": "execute_result"
    },
    {
     "data": {
      "image/png": "[encoded data removed]",
      "text/plain": [
       "<Figure size 432x288 with 1 Axes>"
      ]
     },
     "metadata": {
      "needs_background": "light"
     },
     "output_type": "display_data"
    }
   ],
   "source": [
    "sb.barplot(dataset['quality'], dataset['pH'])"
   ]
  },
  {
   "cell_type": "code",
   "execution_count": 214,
   "id": "7398ce99-5ce8-4125-856c-b2bde6e2de7c",
   "metadata": {},
   "outputs": [
    {
     "data": {
      "image/png": "[encoded data removed]",
      "text/plain": [
       "<Figure size 864x864 with 2 Axes>"
      ]
     },
     "metadata": {
      "needs_background": "light"
     },
     "output_type": "display_data"
    }
   ],
   "source": [
    "#Heat map for highly correlated features\n",
    "plt.figure(figsize=(12,12))\n",
    "sb.heatmap(dataset.corr() > 0.7, annot=True, cmap=\"RdYlGn\")\n",
    "plt.show()"
   ]
  },
  {
   "cell_type": "markdown",
   "id": "377a7168-11f4-4028-80c5-a177da471227",
   "metadata": {},
   "source": [
    "<font size=\"3\"> \n",
    "    Here we can see that none of these features are correlated\n",
    "<br>\n",
    "</font>"
   ]
  },
  {
   "cell_type": "code",
   "execution_count": 215,
   "id": "44b24cdb-9139-45b7-adc7-83e2c129df32",
   "metadata": {},
   "outputs": [
    {
     "data": {
      "text/html": [
       "<div>\n",
       "<style scoped>\n",
       "    .dataframe tbody tr th:only-of-type {\n",
       "        vertical-align: middle;\n",
       "    }\n",
       "\n",
       "    .dataframe tbody tr th {\n",
       "        vertical-align: top;\n",
       "    }\n",
       "\n",
       "    .dataframe thead th {\n",
       "        text-align: right;\n",
       "    }\n",
       "</style>\n",
       "<table border=\"1\" class=\"dataframe\">\n",
       "  <thead>\n",
       "    <tr style=\"text-align: right;\">\n",
       "      <th></th>\n",
       "      <th>fixed acidity</th>\n",
       "      <th>volatile acidity</th>\n",
       "      <th>citric acid</th>\n",
       "      <th>residual sugar</th>\n",
       "      <th>chlorides</th>\n",
       "      <th>free sulfur dioxide</th>\n",
       "      <th>total sulfur dioxide</th>\n",
       "      <th>density</th>\n",
       "      <th>pH</th>\n",
       "      <th>sulphates</th>\n",
       "      <th>alcohol</th>\n",
       "      <th>quality</th>\n",
       "    </tr>\n",
       "  </thead>\n",
       "  <tbody>\n",
       "    <tr>\n",
       "      <th>count</th>\n",
       "      <td>1599.000000</td>\n",
       "      <td>1599.000000</td>\n",
       "      <td>1599.000000</td>\n",
       "      <td>1599.000000</td>\n",
       "      <td>1599.000000</td>\n",
       "      <td>1599.000000</td>\n",
       "      <td>1599.000000</td>\n",
       "      <td>1599.000000</td>\n",
       "      <td>1599.000000</td>\n",
       "      <td>1599.000000</td>\n",
       "      <td>1599.000000</td>\n",
       "      <td>1599.000000</td>\n",
       "    </tr>\n",
       "    <tr>\n",
       "      <th>mean</th>\n",
       "      <td>8.319637</td>\n",
       "      <td>0.527821</td>\n",
       "      <td>0.270976</td>\n",
       "      <td>2.538806</td>\n",
       "      <td>0.087467</td>\n",
       "      <td>15.874922</td>\n",
       "      <td>46.467792</td>\n",
       "      <td>0.996747</td>\n",
       "      <td>3.311113</td>\n",
       "      <td>0.658149</td>\n",
       "      <td>10.422983</td>\n",
       "      <td>5.636023</td>\n",
       "    </tr>\n",
       "    <tr>\n",
       "      <th>std</th>\n",
       "      <td>1.741096</td>\n",
       "      <td>0.179060</td>\n",
       "      <td>0.194801</td>\n",
       "      <td>1.409928</td>\n",
       "      <td>0.047065</td>\n",
       "      <td>10.460157</td>\n",
       "      <td>32.895324</td>\n",
       "      <td>0.001887</td>\n",
       "      <td>0.154386</td>\n",
       "      <td>0.169507</td>\n",
       "      <td>1.065668</td>\n",
       "      <td>0.807569</td>\n",
       "    </tr>\n",
       "    <tr>\n",
       "      <th>min</th>\n",
       "      <td>4.600000</td>\n",
       "      <td>0.120000</td>\n",
       "      <td>0.000000</td>\n",
       "      <td>0.900000</td>\n",
       "      <td>0.012000</td>\n",
       "      <td>1.000000</td>\n",
       "      <td>6.000000</td>\n",
       "      <td>0.990070</td>\n",
       "      <td>2.740000</td>\n",
       "      <td>0.330000</td>\n",
       "      <td>8.400000</td>\n",
       "      <td>3.000000</td>\n",
       "    </tr>\n",
       "    <tr>\n",
       "      <th>25%</th>\n",
       "      <td>7.100000</td>\n",
       "      <td>0.390000</td>\n",
       "      <td>0.090000</td>\n",
       "      <td>1.900000</td>\n",
       "      <td>0.070000</td>\n",
       "      <td>7.000000</td>\n",
       "      <td>22.000000</td>\n",
       "      <td>0.995600</td>\n",
       "      <td>3.210000</td>\n",
       "      <td>0.550000</td>\n",
       "      <td>9.500000</td>\n",
       "      <td>5.000000</td>\n",
       "    </tr>\n",
       "    <tr>\n",
       "      <th>50%</th>\n",
       "      <td>7.900000</td>\n",
       "      <td>0.520000</td>\n",
       "      <td>0.260000</td>\n",
       "      <td>2.200000</td>\n",
       "      <td>0.079000</td>\n",
       "      <td>14.000000</td>\n",
       "      <td>38.000000</td>\n",
       "      <td>0.996750</td>\n",
       "      <td>3.310000</td>\n",
       "      <td>0.620000</td>\n",
       "      <td>10.200000</td>\n",
       "      <td>6.000000</td>\n",
       "    </tr>\n",
       "    <tr>\n",
       "      <th>75%</th>\n",
       "      <td>9.200000</td>\n",
       "      <td>0.640000</td>\n",
       "      <td>0.420000</td>\n",
       "      <td>2.600000</td>\n",
       "      <td>0.090000</td>\n",
       "      <td>21.000000</td>\n",
       "      <td>62.000000</td>\n",
       "      <td>0.997835</td>\n",
       "      <td>3.400000</td>\n",
       "      <td>0.730000</td>\n",
       "      <td>11.100000</td>\n",
       "      <td>6.000000</td>\n",
       "    </tr>\n",
       "    <tr>\n",
       "      <th>max</th>\n",
       "      <td>15.900000</td>\n",
       "      <td>1.580000</td>\n",
       "      <td>1.000000</td>\n",
       "      <td>15.500000</td>\n",
       "      <td>0.611000</td>\n",
       "      <td>72.000000</td>\n",
       "      <td>289.000000</td>\n",
       "      <td>1.003690</td>\n",
       "      <td>4.010000</td>\n",
       "      <td>2.000000</td>\n",
       "      <td>14.900000</td>\n",
       "      <td>8.000000</td>\n",
       "    </tr>\n",
       "  </tbody>\n",
       "</table>\n",
       "</div>"
      ],
      "text/plain": [
       "       fixed acidity  volatile acidity  citric acid  residual sugar  \\\n",
       "count    1599.000000       1599.000000  1599.000000     1599.000000   \n",
       "mean        8.319637          0.527821     0.270976        2.538806   \n",
       "std         1.741096          0.179060     0.194801        1.409928   \n",
       "min         4.600000          0.120000     0.000000        0.900000   \n",
       "25%         7.100000          0.390000     0.090000        1.900000   \n",
       "50%         7.900000          0.520000     0.260000        2.200000   \n",
       "75%         9.200000          0.640000     0.420000        2.600000   \n",
       "max        15.900000          1.580000     1.000000       15.500000   \n",
       "\n",
       "         chlorides  free sulfur dioxide  total sulfur dioxide      density  \\\n",
       "count  1599.000000          1599.000000           1599.000000  1599.000000   \n",
       "mean      0.087467            15.874922             46.467792     0.996747   \n",
       "std       0.047065            10.460157             32.895324     0.001887   \n",
       "min       0.012000             1.000000              6.000000     0.990070   \n",
       "25%       0.070000             7.000000             22.000000     0.995600   \n",
       "50%       0.079000            14.000000             38.000000     0.996750   \n",
       "75%       0.090000            21.000000             62.000000     0.997835   \n",
       "max       0.611000            72.000000            289.000000     1.003690   \n",
       "\n",
       "                pH    sulphates      alcohol      quality  \n",
       "count  1599.000000  1599.000000  1599.000000  1599.000000  \n",
       "mean      3.311113     0.658149    10.422983     5.636023  \n",
       "std       0.154386     0.169507     1.065668     0.807569  \n",
       "min       2.740000     0.330000     8.400000     3.000000  \n",
       "25%       3.210000     0.550000     9.500000     5.000000  \n",
       "50%       3.310000     0.620000    10.200000     6.000000  \n",
       "75%       3.400000     0.730000    11.100000     6.000000  \n",
       "max       4.010000     2.000000    14.900000     8.000000  "
      ]
     },
     "execution_count": 215,
     "metadata": {},
     "output_type": "execute_result"
    }
   ],
   "source": [
    "dataset.describe()"
   ]
  },
  {
   "cell_type": "markdown",
   "id": "41fb4510-9509-4b74-b187-ede5ef7a8591",
   "metadata": {},
   "source": [
    "## 2. Processing the data"
   ]
  },
  {
   "cell_type": "markdown",
   "id": "f582195a-910d-4b3d-9ad6-7ff6a19c852a",
   "metadata": {},
   "source": [
    "<font size=\"3\"> \n",
    "    Here I want to make this problem is classification task, so the target \"quality\", I will try to make it into a column with only two value \"good\" or \"bad\".\n",
    "<br>\n",
    "</font>\n"
   ]
  },
  {
   "cell_type": "code",
   "execution_count": 216,
   "id": "b7ab30eb-b4f6-45bc-8c84-f153a0c7580c",
   "metadata": {},
   "outputs": [],
   "source": [
    "from sklearn.preprocessing import StandardScaler, LabelEncoder\n",
    "from sklearn.model_selection import train_test_split"
   ]
  },
  {
   "cell_type": "code",
   "execution_count": 217,
   "id": "130a6bbd-caea-46cc-858d-e120c5aa7ad9",
   "metadata": {},
   "outputs": [],
   "source": [
    "import warnings\n",
    "warnings.filterwarnings('ignore')"
   ]
  },
  {
   "cell_type": "code",
   "execution_count": 218,
   "id": "99347c27-0c98-4c5d-9943-eb6dffb0d744",
   "metadata": {},
   "outputs": [],
   "source": [
    "#Making binary classification for \"quality\"\n",
    "#Casting the column quality by float value\n",
    "dataset['quality'] = dataset['quality'].astype(float)\n",
    "bins = [2, 6.5, 8]\n",
    "group_names = ['bad', 'good']\n",
    "dataset['quality'] = pd.cut(dataset['quality'], bins = bins, labels = group_names)\n"
   ]
  },
  {
   "cell_type": "code",
   "execution_count": 219,
   "id": "0f5b6f2e-c232-4866-b684-768594866fad",
   "metadata": {},
   "outputs": [
    {
     "data": {
      "text/plain": [
       "0       bad\n",
       "1       bad\n",
       "2       bad\n",
       "3       bad\n",
       "4       bad\n",
       "       ... \n",
       "1594    bad\n",
       "1595    bad\n",
       "1596    bad\n",
       "1597    bad\n",
       "1598    bad\n",
       "Name: quality, Length: 1599, dtype: category\n",
       "Categories (2, object): ['bad' < 'good']"
      ]
     },
     "execution_count": 219,
     "metadata": {},
     "output_type": "execute_result"
    }
   ],
   "source": [
    "dataset['quality']"
   ]
  },
  {
   "cell_type": "code",
   "execution_count": 220,
   "id": "536c2302-cffa-44fb-a24b-4ad3b955a7e9",
   "metadata": {},
   "outputs": [],
   "source": [
    "#labeling for the quality colum, 0 for bad quality, 1 for good quality\n",
    "label = LabelEncoder()\n",
    "dataset['quality'] = label.fit_transform(dataset['quality'])"
   ]
  },
  {
   "cell_type": "code",
   "execution_count": 221,
   "id": "433716fa-31e4-4e02-b3e4-6aa46eaf0fbe",
   "metadata": {},
   "outputs": [
    {
     "data": {
      "text/plain": [
       "0    1382\n",
       "1     217\n",
       "Name: quality, dtype: int64"
      ]
     },
     "execution_count": 221,
     "metadata": {},
     "output_type": "execute_result"
    }
   ],
   "source": [
    "dataset['quality'].value_counts()"
   ]
  },
  {
   "cell_type": "code",
   "execution_count": 222,
   "id": "230099eb-8e4c-405d-b00e-6e25a0b775c2",
   "metadata": {},
   "outputs": [],
   "source": [
    "#Seperate the dataset as feature and target\n",
    "dataset_value = dataset.values\n",
    "feature = dataset_value[:, :-1]\n",
    "target = dataset_value[:, -1]"
   ]
  },
  {
   "cell_type": "code",
   "execution_count": 223,
   "id": "1c3e3bc3-46e5-45a4-a316-274f3f97e500",
   "metadata": {},
   "outputs": [
    {
     "name": "stdout",
     "output_type": "stream",
     "text": [
      "(1119, 11) (1119,) (480, 11) (480,)\n"
     ]
    }
   ],
   "source": [
    "#Splitting the data\n",
    "X_train, X_test, y_train, y_test = train_test_split(feature, target, test_size=0.3)\n",
    "print(X_train.shape, y_train.shape, X_test.shape, y_test.shape)"
   ]
  },
  {
   "cell_type": "code",
   "execution_count": 224,
   "id": "8aa6f37b-d0d1-4a91-b278-0a2aecfd2eac",
   "metadata": {},
   "outputs": [],
   "source": [
    "#Applying some transformation on the dataset using Standard scaling to get optimized result\n",
    "normalizer = StandardScaler()\n",
    "X_train = normalizer.fit_transform(X_train)\n",
    "X_test = normalizer.fit_transform(X_test)"
   ]
  },
  {
   "cell_type": "code",
   "execution_count": 225,
   "id": "e41c2fb2-9b5c-4ce5-a2c4-62dd640dd014",
   "metadata": {},
   "outputs": [
    {
     "data": {
      "text/plain": [
       "array([[ 1.72830746, -0.94739106,  2.04627852, ..., -0.73807619,\n",
       "        -0.71883551,  1.36156659],\n",
       "       [-0.33533406,  0.17059533, -0.34573993, ...,  1.06789048,\n",
       "        -0.20280497, -1.05084572],\n",
       "       [ 0.75381007,  0.05879669,  0.79826889, ..., -0.73807619,\n",
       "         0.31322556,  0.89764115],\n",
       "       ...,\n",
       "       [-0.27801069,  1.59602797, -1.33374755, ...,  0.42290238,\n",
       "        -0.20280497,  0.34093061],\n",
       "       [ 1.72830746, -0.94739106,  2.04627852, ..., -0.73807619,\n",
       "        -0.71883551,  1.36156659],\n",
       "       [ 0.12325294, -1.05918969,  0.9022697 , ...,  1.32588572,\n",
       "        -0.14546824,  0.24814553]])"
      ]
     },
     "execution_count": 225,
     "metadata": {},
     "output_type": "execute_result"
    }
   ],
   "source": [
    "X_train"
   ]
  },
  {
   "cell_type": "markdown",
   "id": "540fda45-c598-4d66-b4e1-7d5b28f4c2c6",
   "metadata": {},
   "source": [
    "## 3. Training:"
   ]
  },
  {
   "cell_type": "code",
   "execution_count": 226,
   "id": "0e9d1980-d4c8-4552-8fe6-d51af2fb0f4d",
   "metadata": {},
   "outputs": [],
   "source": [
    "from sklearn.metrics import f1_score, accuracy_score, classification_report\n",
    "from sklearn.model_selection import GridSearchCV"
   ]
  },
  {
   "cell_type": "code",
   "execution_count": 227,
   "id": "d9fd7bbd-53e5-452e-95b6-8ada53a7d274",
   "metadata": {},
   "outputs": [],
   "source": [
    "#To identify the best combination of parameter values for the model, I used GridSearchCV\n",
    "def find_best_params(base_estimator, param_grid, X_train, y_train, X_test, y_test):\n",
    "    clf = GridSearchCV(base_estimator, param_grid, cv=5).fit(X_train, y_train)\n",
    "    print(\"The best parameters are %s\" % (clf.best_params_))\n",
    "    print(\"Accuracy score for testing data: \", clf.score(X_test, y_test))\n",
    "    y_predicted = clf.predict(X_test)\n",
    "    print(\"f1 score for testing data: \", f1_score(y_test, y_predicted, average='macro'))\n",
    "    best_estimator = clf.best_estimator_\n",
    "    return clf, best_estimator\n",
    "    \n"
   ]
  },
  {
   "cell_type": "markdown",
   "id": "97f27c1a-a799-41c9-80c8-2e5e8f864752",
   "metadata": {},
   "source": [
    "<font size=\"3\"> \n",
    "Limitation of GridSearchCV:\n",
    "<br> The search can only test the parameters that you fed into \"param_grid\". There could be a combination of parameters that further improves the performance of the model (We miss some better combination of parameters). \n",
    "<br> => So why not just include more values for each parameter???\n",
    "<br>Since conducting an exhaustive search of all the parameters is an incredibly time-consuming task.\n",
    "    \n",
    "</font>"
   ]
  },
  {
   "cell_type": "markdown",
   "id": "71bf2345-740d-4053-a91b-705eacd17438",
   "metadata": {},
   "source": [
    "### 3.1. Logistic Regression:"
   ]
  },
  {
   "cell_type": "code",
   "execution_count": 228,
   "id": "dbf59906-01ef-4005-94ba-a32f56e0ea76",
   "metadata": {},
   "outputs": [
    {
     "name": "stdout",
     "output_type": "stream",
     "text": [
      "Requirement already satisfied: scikit-plot in c:\\users\\thuha\\anaconda3\\lib\\site-packages (0.3.7)Note: you may need to restart the kernel to use updated packages.\n",
      "\n",
      "Requirement already satisfied: joblib>=0.10 in c:\\users\\thuha\\anaconda3\\lib\\site-packages (from scikit-plot) (1.1.0)\n",
      "Requirement already satisfied: scipy>=0.9 in c:\\users\\thuha\\anaconda3\\lib\\site-packages (from scikit-plot) (1.7.1)\n",
      "Requirement already satisfied: matplotlib>=1.4.0 in c:\\users\\thuha\\anaconda3\\lib\\site-packages (from scikit-plot) (3.4.3)\n",
      "Requirement already satisfied: scikit-learn>=0.18 in c:\\users\\thuha\\anaconda3\\lib\\site-packages (from scikit-plot) (0.24.2)\n",
      "Requirement already satisfied: pyparsing>=2.2.1 in c:\\users\\thuha\\anaconda3\\lib\\site-packages (from matplotlib>=1.4.0->scikit-plot) (3.0.4)\n",
      "Requirement already satisfied: cycler>=0.10 in c:\\users\\thuha\\anaconda3\\lib\\site-packages (from matplotlib>=1.4.0->scikit-plot) (0.10.0)\n",
      "Requirement already satisfied: python-dateutil>=2.7 in c:\\users\\thuha\\anaconda3\\lib\\site-packages (from matplotlib>=1.4.0->scikit-plot) (2.8.2)\n",
      "Requirement already satisfied: kiwisolver>=1.0.1 in c:\\users\\thuha\\anaconda3\\lib\\site-packages (from matplotlib>=1.4.0->scikit-plot) (1.3.1)\n",
      "Requirement already satisfied: pillow>=6.2.0 in c:\\users\\thuha\\anaconda3\\lib\\site-packages (from matplotlib>=1.4.0->scikit-plot) (8.4.0)\n",
      "Requirement already satisfied: numpy>=1.16 in c:\\users\\thuha\\anaconda3\\lib\\site-packages (from matplotlib>=1.4.0->scikit-plot) (1.20.3)\n",
      "Requirement already satisfied: six in c:\\users\\thuha\\anaconda3\\lib\\site-packages (from cycler>=0.10->matplotlib>=1.4.0->scikit-plot) (1.16.0)\n",
      "Requirement already satisfied: threadpoolctl>=2.0.0 in c:\\users\\thuha\\anaconda3\\lib\\site-packages (from scikit-learn>=0.18->scikit-plot) (2.2.0)\n"
     ]
    }
   ],
   "source": [
    "%pip install scikit-plot"
   ]
  },
  {
   "cell_type": "code",
   "execution_count": 229,
   "id": "7c46931f-c698-4a4f-9056-f474167730ed",
   "metadata": {},
   "outputs": [],
   "source": [
    "from sklearn.linear_model import LogisticRegression\n",
    "import scikitplot"
   ]
  },
  {
   "cell_type": "code",
   "execution_count": 230,
   "id": "8b88e401-4773-4d1f-b9dc-8a23831aa2f1",
   "metadata": {},
   "outputs": [
    {
     "name": "stdout",
     "output_type": "stream",
     "text": [
      "              precision    recall  f1-score   support\n",
      "\n",
      "         0.0       0.90      0.96      0.93       413\n",
      "         1.0       0.61      0.37      0.46        67\n",
      "\n",
      "    accuracy                           0.88       480\n",
      "   macro avg       0.76      0.67      0.70       480\n",
      "weighted avg       0.86      0.88      0.87       480\n",
      "\n"
     ]
    }
   ],
   "source": [
    "#Training using general Logistic Regression\n",
    "lr = LogisticRegression()\n",
    "lr.fit(X_train, y_train)\n",
    "y_pred_lr = lr.predict(X_test)\n",
    "print(classification_report(y_test, y_pred_lr))"
   ]
  },
  {
   "cell_type": "markdown",
   "id": "5da58501-e7e0-490f-93c5-ed1d8af287b2",
   "metadata": {},
   "source": [
    "<font size=\"3\"> \n",
    "Finding best parameters\n",
    "<br>\n",
    "</font>"
   ]
  },
  {
   "cell_type": "code",
   "execution_count": 231,
   "id": "e4c4c0fc-a47e-40a5-a31f-6f5c68526923",
   "metadata": {},
   "outputs": [
    {
     "name": "stdout",
     "output_type": "stream",
     "text": [
      "The best parameters are {'C': 0.08858667904100823, 'l1_ratio': 0.0, 'penalty': 'elasticnet'}\n",
      "Accuracy score for testing data:  0.8854166666666666\n",
      "f1 score for testing data:  0.6957088025449809\n"
     ]
    }
   ],
   "source": [
    "#Training data using Logistic regression\n",
    "param_grid = {'C': np.logspace(-4, 4, 20),\n",
    "              'l1_ratio': np.linspace(0, 1, 11),\n",
    "              'penalty': ['elasticnet']\n",
    "             }\n",
    "logistic_regression = LogisticRegression(multi_class='multinomial', solver='saga', tol=1e-3, max_iter=500)\n",
    "#Here we can find a best estimator with given parameter grid\n",
    "clf, best_estimator_lg = find_best_params(logistic_regression, param_grid, X_train, y_train, X_test, y_test)"
   ]
  },
  {
   "cell_type": "code",
   "execution_count": 232,
   "id": "e8e22c85-c929-4009-87e0-04fd398fd1ab",
   "metadata": {},
   "outputs": [
    {
     "data": {
      "text/plain": [
       "['__abstractmethods__',\n",
       " '__class__',\n",
       " '__delattr__',\n",
       " '__dict__',\n",
       " '__dir__',\n",
       " '__doc__',\n",
       " '__eq__',\n",
       " '__format__',\n",
       " '__ge__',\n",
       " '__getattribute__',\n",
       " '__getstate__',\n",
       " '__gt__',\n",
       " '__hash__',\n",
       " '__init__',\n",
       " '__init_subclass__',\n",
       " '__le__',\n",
       " '__lt__',\n",
       " '__module__',\n",
       " '__ne__',\n",
       " '__new__',\n",
       " '__reduce__',\n",
       " '__reduce_ex__',\n",
       " '__repr__',\n",
       " '__setattr__',\n",
       " '__setstate__',\n",
       " '__sizeof__',\n",
       " '__str__',\n",
       " '__subclasshook__',\n",
       " '__weakref__',\n",
       " '_abc_impl',\n",
       " '_check_is_fitted',\n",
       " '_check_n_features',\n",
       " '_check_refit_for_multimetric',\n",
       " '_estimator_type',\n",
       " '_format_results',\n",
       " '_get_param_names',\n",
       " '_get_tags',\n",
       " '_more_tags',\n",
       " '_pairwise',\n",
       " '_repr_html_',\n",
       " '_repr_html_inner',\n",
       " '_repr_mimebundle_',\n",
       " '_required_parameters',\n",
       " '_run_search',\n",
       " '_validate_data',\n",
       " 'best_estimator_',\n",
       " 'best_index_',\n",
       " 'best_params_',\n",
       " 'best_score_',\n",
       " 'classes_',\n",
       " 'cv',\n",
       " 'cv_results_',\n",
       " 'decision_function',\n",
       " 'error_score',\n",
       " 'estimator',\n",
       " 'fit',\n",
       " 'get_params',\n",
       " 'inverse_transform',\n",
       " 'multimetric_',\n",
       " 'n_features_in_',\n",
       " 'n_jobs',\n",
       " 'n_splits_',\n",
       " 'param_grid',\n",
       " 'pre_dispatch',\n",
       " 'predict',\n",
       " 'predict_log_proba',\n",
       " 'predict_proba',\n",
       " 'refit',\n",
       " 'refit_time_',\n",
       " 'return_train_score',\n",
       " 'score',\n",
       " 'score_samples',\n",
       " 'scorer_',\n",
       " 'scoring',\n",
       " 'set_params',\n",
       " 'transform',\n",
       " 'verbose']"
      ]
     },
     "execution_count": 232,
     "metadata": {},
     "output_type": "execute_result"
    }
   ],
   "source": [
    "#Parameters of GridSearchCV\n",
    "dir(clf)"
   ]
  },
  {
   "cell_type": "code",
   "execution_count": 233,
   "id": "a06c833e-66d6-4418-b00a-894486e06d9c",
   "metadata": {},
   "outputs": [
    {
     "data": {
      "text/plain": [
       "LogisticRegression(C=0.08858667904100823, l1_ratio=0.0, max_iter=500,\n",
       "                   multi_class='multinomial', penalty='elasticnet',\n",
       "                   solver='saga', tol=0.001)"
      ]
     },
     "execution_count": 233,
     "metadata": {},
     "output_type": "execute_result"
    }
   ],
   "source": [
    "best_estimator_lg"
   ]
  },
  {
   "cell_type": "code",
   "execution_count": 234,
   "id": "4db7d4a6-3cc2-46c1-bd81-4114740ea05a",
   "metadata": {},
   "outputs": [
    {
     "name": "stdout",
     "output_type": "stream",
     "text": [
      "Accuracy score for testing data:  0.8854166666666666\n",
      "f1 score for testing data:  0.6957088025449809\n",
      "              precision    recall  f1-score   support\n",
      "\n",
      "         0.0       0.90      0.97      0.94       413\n",
      "         1.0       0.68      0.34      0.46        67\n",
      "\n",
      "    accuracy                           0.89       480\n",
      "   macro avg       0.79      0.66      0.70       480\n",
      "weighted avg       0.87      0.89      0.87       480\n",
      "\n"
     ]
    }
   ],
   "source": [
    "#Accuracy score and f1 score using best estimator\n",
    "best_pred_y = best_estimator_lg.predict(X_test)\n",
    "print(\"Accuracy score for testing data: \", accuracy_score(y_test, best_pred_y))\n",
    "print(\"f1 score for testing data: \", f1_score(y_test, best_pred_y, average='macro'))\n",
    "print(classification_report(y_test, best_pred_y))\n"
   ]
  },
  {
   "cell_type": "markdown",
   "id": "1c0fb61d-4269-46b2-966c-c2e0aabb5219",
   "metadata": {},
   "source": [
    "<font size=\"3\"> \n",
    "    => These scores are exactly the same with what we get using GridSearchcv\n",
    "</font>\n",
    "\n",
    "#### Plot the ROC curve\n"
   ]
  },
  {
   "cell_type": "code",
   "execution_count": 235,
   "id": "3c01af42-c735-4e26-ab76-66ad36e627fa",
   "metadata": {},
   "outputs": [
    {
     "data": {
      "image/png": "[encoded data removed]",
      "text/plain": [
       "<Figure size 432x288 with 1 Axes>"
      ]
     },
     "metadata": {
      "needs_background": "light"
     },
     "output_type": "display_data"
    }
   ],
   "source": [
    "predicted_proba = best_estimator_lg.predict_proba(X_test)\n",
    "scikitplot.metrics.plot_roc(y_test, predicted_proba)\n",
    "plt.show()"
   ]
  },
  {
   "cell_type": "markdown",
   "id": "6af8a09c-aa34-477c-9e37-d5a3a62615f8",
   "metadata": {},
   "source": [
    "<font size=\"3\"> \n",
    "A Receiver Operator Characteristic (ROC) curve is a graphical plot used to show the diagnostic ability of binary classifiers.\n",
    "</font>"
   ]
  },
  {
   "cell_type": "markdown",
   "id": "da7e709e-7bf0-44a3-950a-1a9cab354f92",
   "metadata": {},
   "source": [
    "#### Score for Logistic Regression (best estimator) with different sizes\n"
   ]
  },
  {
   "cell_type": "code",
   "execution_count": 236,
   "id": "75045817-5735-402c-a516-ce6ad4c06f8c",
   "metadata": {},
   "outputs": [
    {
     "data": {
      "text/plain": [
       "LogisticRegression(C=0.08858667904100823, l1_ratio=0.0, max_iter=500,\n",
       "                   multi_class='multinomial', penalty='elasticnet',\n",
       "                   solver='saga', tol=0.001)"
      ]
     },
     "execution_count": 236,
     "metadata": {},
     "output_type": "execute_result"
    }
   ],
   "source": [
    "best_estimator_lg"
   ]
  },
  {
   "cell_type": "code",
   "execution_count": 237,
   "id": "81f76830-8c26-4869-b4be-519b5992ecf9",
   "metadata": {},
   "outputs": [
    {
     "data": {
      "image/png": "[encoded data removed]",
      "text/plain": [
       "<Figure size 864x576 with 1 Axes>"
      ]
     },
     "metadata": {
      "needs_background": "light"
     },
     "output_type": "display_data"
    }
   ],
   "source": [
    "acc_test_score = np.zeros(100)\n",
    "f1_macro_test_score = np.zeros(100)\n",
    "\n",
    "for i in range(100):\n",
    "    dataset_size = int(X_train.shape[0] * (i + 1) / 100)\n",
    "    clf1 = best_estimator_lg.fit(X_train[:dataset_size], y_train[:dataset_size])\n",
    "    acc_test_score[i] = clf1.score(X_test, y_test)\n",
    "    y_predicted = clf1.predict(X_test)\n",
    "    f1_macro_test_score[i] = f1_score(y_test, y_predicted, average='macro')\n",
    "\n",
    "plt.figure(figsize=(12, 8))\n",
    "plt.plot(np.arange(100), acc_test_score, label='accuracy score')\n",
    "plt.plot(np.arange(100), f1_macro_test_score, label='f1 macro score')\n",
    "\n",
    "plt.xlabel(\"Dataset size\", fontsize=14)\n",
    "plt.ylabel(\"Score\", fontsize=14)\n",
    "plt.legend(fontsize=14)\n",
    "plt.title(\"Scores for Logistic regression best estimator with different dataset sizes\", fontsize=18)\n",
    "plt.show()"
   ]
  },
  {
   "cell_type": "code",
   "execution_count": 238,
   "id": "6ff25a08-c82d-4f91-9d68-e23e9835189a",
   "metadata": {},
   "outputs": [
    {
     "data": {
      "image/png": "[encoded data removed]",
      "text/plain": [
       "<Figure size 864x576 with 1 Axes>"
      ]
     },
     "metadata": {
      "needs_background": "light"
     },
     "output_type": "display_data"
    }
   ],
   "source": [
    "acc_test_score = np.zeros(100)\n",
    "f1_macro_test_score = np.zeros(100)\n",
    "estimator = LogisticRegression()\n",
    "for i in range(100):\n",
    "    dataset_size = int(X_train.shape[0] * (i + 1) / 100)\n",
    "    clf2 = estimator.fit(X_train[:dataset_size], y_train[:dataset_size])\n",
    "    acc_test_score[i] = clf2.score(X_test, y_test)\n",
    "    y_predicted = clf2.predict(X_test)\n",
    "    f1_macro_test_score[i] = f1_score(y_test, y_predicted, average='macro')\n",
    "\n",
    "plt.figure(figsize=(12, 8))\n",
    "plt.plot(np.arange(100), acc_test_score, label='accuracy score')\n",
    "plt.plot(np.arange(100), f1_macro_test_score, label='f1 macro score')\n",
    "\n",
    "plt.xlabel(\"Dataset size\", fontsize=14)\n",
    "plt.ylabel(\"Score\", fontsize=14)\n",
    "plt.legend(fontsize=14)\n",
    "plt.title(\"Scores for Logistic regression best estimator with different dataset sizes\", fontsize=18)\n",
    "plt.show()"
   ]
  },
  {
   "cell_type": "markdown",
   "id": "42524d41-b7ca-4a43-8db9-4ce5163a9cd2",
   "metadata": {},
   "source": [
    "<font size=\"3\"> \n",
    "=> Using best estimator, the accuracy line is more stable and f1 score is increasing with respect to the size of trainning data\n",
    "</font>"
   ]
  },
  {
   "cell_type": "markdown",
   "id": "247e5a90-a6e0-4eb6-83dc-19f4e3ff4e72",
   "metadata": {},
   "source": [
    "### 3.2. Decision Tree:"
   ]
  },
  {
   "cell_type": "code",
   "execution_count": 239,
   "id": "a17c2e6d-aad9-4664-83a9-b3a176f24231",
   "metadata": {},
   "outputs": [],
   "source": [
    "from sklearn.tree import DecisionTreeClassifier\n",
    "from sklearn import tree"
   ]
  },
  {
   "cell_type": "code",
   "execution_count": 240,
   "id": "059eef03-94fe-48a3-8cf7-d973c1a0145d",
   "metadata": {},
   "outputs": [
    {
     "name": "stdout",
     "output_type": "stream",
     "text": [
      "The best parameters are {'criterion': 'gini', 'max_depth': 5, 'min_samples_leaf': 20}\n",
      "Accuracy score for testing data:  0.88125\n",
      "f1 score for testing data:  0.7226024272287617\n"
     ]
    }
   ],
   "source": [
    "decision_tree = DecisionTreeClassifier(random_state=42)\n",
    "param_grid_2 = {'max_depth': np.linspace(1, 32, 32, dtype=np.int16),\n",
    "              'min_samples_leaf': [5, 10, 20, 50, 100],\n",
    "              'criterion': [\"gini\", \"entropy\"]}\n",
    "\n",
    "clf, best_estimator = find_best_params(decision_tree, param_grid_2, X_train, y_train, X_test, y_test)"
   ]
  },
  {
   "cell_type": "code",
   "execution_count": 241,
   "id": "2ab8dd4f-a17d-4f40-924e-353fa02e240f",
   "metadata": {},
   "outputs": [
    {
     "name": "stdout",
     "output_type": "stream",
     "text": [
      "              precision    recall  f1-score   support\n",
      "\n",
      "         0.0       0.91      0.95      0.93       413\n",
      "         1.0       0.60      0.45      0.51        67\n",
      "\n",
      "    accuracy                           0.88       480\n",
      "   macro avg       0.76      0.70      0.72       480\n",
      "weighted avg       0.87      0.88      0.87       480\n",
      "\n"
     ]
    }
   ],
   "source": [
    "y_pred_tree = best_estimator.predict(X_test)\n",
    "print(classification_report(y_test, y_pred_tree))"
   ]
  },
  {
   "cell_type": "markdown",
   "id": "20c09ce0-69a1-4f29-b725-e849ab94f3e6",
   "metadata": {},
   "source": [
    "#### Plot the tree of best estimator"
   ]
  },
  {
   "cell_type": "code",
   "execution_count": 242,
   "id": "091a71e7-1517-49ab-a443-d267e99f583c",
   "metadata": {},
   "outputs": [
    {
     "data": {
      "text/plain": [
       "[Text(197.83636363636364, 199.32, 'X[10] <= 1.037\\ngini = 0.232\\nsamples = 1119\\nvalue = [969, 150]'),\n",
       " Text(111.60000000000001, 163.07999999999998, 'X[1] <= -0.752\\ngini = 0.141\\nsamples = 941\\nvalue = [869, 72]'),\n",
       " Text(50.727272727272734, 126.83999999999999, 'X[10] <= 0.109\\ngini = 0.358\\nsamples = 197\\nvalue = [151, 46]'),\n",
       " Text(20.290909090909093, 90.6, 'X[9] <= 0.199\\ngini = 0.175\\nsamples = 103\\nvalue = [93, 10]'),\n",
       " Text(10.145454545454546, 54.359999999999985, 'gini = 0.0\\nsamples = 55\\nvalue = [55, 0]'),\n",
       " Text(30.436363636363637, 54.359999999999985, 'X[4] <= -0.2\\ngini = 0.33\\nsamples = 48\\nvalue = [38, 10]'),\n",
       " Text(20.290909090909093, 18.119999999999976, 'gini = 0.455\\nsamples = 20\\nvalue = [13, 7]'),\n",
       " Text(40.581818181818186, 18.119999999999976, 'gini = 0.191\\nsamples = 28\\nvalue = [25, 3]'),\n",
       " Text(81.16363636363637, 90.6, 'X[0] <= 0.983\\ngini = 0.473\\nsamples = 94\\nvalue = [58, 36]'),\n",
       " Text(71.01818181818183, 54.359999999999985, 'X[4] <= -0.254\\ngini = 0.399\\nsamples = 69\\nvalue = [50, 19]'),\n",
       " Text(60.872727272727275, 18.119999999999976, 'gini = 0.49\\nsamples = 42\\nvalue = [24, 18]'),\n",
       " Text(81.16363636363637, 18.119999999999976, 'gini = 0.071\\nsamples = 27\\nvalue = [26, 1]'),\n",
       " Text(91.30909090909091, 54.359999999999985, 'gini = 0.435\\nsamples = 25\\nvalue = [8, 17]'),\n",
       " Text(172.4727272727273, 126.83999999999999, 'X[10] <= -0.425\\ngini = 0.067\\nsamples = 744\\nvalue = [718, 26]'),\n",
       " Text(131.8909090909091, 90.6, 'X[0] <= 0.811\\ngini = 0.02\\nsamples = 406\\nvalue = [402, 4]'),\n",
       " Text(111.60000000000001, 54.359999999999985, 'X[6] <= -0.325\\ngini = 0.011\\nsamples = 357\\nvalue = [355, 2]'),\n",
       " Text(101.45454545454547, 18.119999999999976, 'gini = 0.033\\nsamples = 121\\nvalue = [119, 2]'),\n",
       " Text(121.74545454545455, 18.119999999999976, 'gini = 0.0\\nsamples = 236\\nvalue = [236, 0]'),\n",
       " Text(152.1818181818182, 54.359999999999985, 'X[4] <= 0.017\\ngini = 0.078\\nsamples = 49\\nvalue = [47, 2]'),\n",
       " Text(142.03636363636366, 18.119999999999976, 'gini = 0.0\\nsamples = 29\\nvalue = [29, 0]'),\n",
       " Text(162.32727272727274, 18.119999999999976, 'gini = 0.18\\nsamples = 20\\nvalue = [18, 2]'),\n",
       " Text(213.05454545454546, 90.6, 'X[9] <= 0.055\\ngini = 0.122\\nsamples = 338\\nvalue = [316, 22]'),\n",
       " Text(192.76363636363638, 54.359999999999985, 'X[6] <= -0.536\\ngini = 0.06\\nsamples = 227\\nvalue = [220, 7]'),\n",
       " Text(182.61818181818182, 18.119999999999976, 'gini = 0.122\\nsamples = 92\\nvalue = [86, 6]'),\n",
       " Text(202.90909090909093, 18.119999999999976, 'gini = 0.015\\nsamples = 135\\nvalue = [134, 1]'),\n",
       " Text(233.34545454545457, 54.359999999999985, 'X[6] <= 0.111\\ngini = 0.234\\nsamples = 111\\nvalue = [96, 15]'),\n",
       " Text(223.20000000000002, 18.119999999999976, 'gini = 0.298\\nsamples = 77\\nvalue = [63, 14]'),\n",
       " Text(243.4909090909091, 18.119999999999976, 'gini = 0.057\\nsamples = 34\\nvalue = [33, 1]'),\n",
       " Text(284.0727272727273, 163.07999999999998, 'X[9] <= 0.17\\ngini = 0.492\\nsamples = 178\\nvalue = [100, 78]'),\n",
       " Text(253.63636363636365, 126.83999999999999, 'X[6] <= -0.926\\ngini = 0.387\\nsamples = 103\\nvalue = [76, 27]'),\n",
       " Text(243.4909090909091, 90.6, 'gini = 0.488\\nsamples = 26\\nvalue = [11, 15]'),\n",
       " Text(263.7818181818182, 90.6, 'X[8] <= -0.19\\ngini = 0.263\\nsamples = 77\\nvalue = [65, 12]'),\n",
       " Text(253.63636363636365, 54.359999999999985, 'gini = 0.469\\nsamples = 24\\nvalue = [15, 9]'),\n",
       " Text(273.92727272727274, 54.359999999999985, 'X[4] <= -0.482\\ngini = 0.107\\nsamples = 53\\nvalue = [50, 3]'),\n",
       " Text(263.7818181818182, 18.119999999999976, 'gini = 0.198\\nsamples = 27\\nvalue = [24, 3]'),\n",
       " Text(284.0727272727273, 18.119999999999976, 'gini = 0.0\\nsamples = 26\\nvalue = [26, 0]'),\n",
       " Text(314.50909090909096, 126.83999999999999, 'X[5] <= 0.271\\ngini = 0.435\\nsamples = 75\\nvalue = [24, 51]'),\n",
       " Text(304.3636363636364, 90.6, 'X[5] <= -0.793\\ngini = 0.325\\nsamples = 49\\nvalue = [10, 39]'),\n",
       " Text(294.21818181818185, 54.359999999999985, 'gini = 0.49\\nsamples = 21\\nvalue = [9, 12]'),\n",
       " Text(314.50909090909096, 54.359999999999985, 'gini = 0.069\\nsamples = 28\\nvalue = [1, 27]'),\n",
       " Text(324.6545454545455, 90.6, 'gini = 0.497\\nsamples = 26\\nvalue = [14, 12]')]"
      ]
     },
     "execution_count": 242,
     "metadata": {},
     "output_type": "execute_result"
    },
    {
     "data": {
      "image/png": "[encoded data removed]",
      "text/plain": [
       "<Figure size 432x288 with 1 Axes>"
      ]
     },
     "metadata": {
      "needs_background": "light"
     },
     "output_type": "display_data"
    }
   ],
   "source": [
    "tree.plot_tree(best_estimator)"
   ]
  },
  {
   "cell_type": "markdown",
   "id": "1916eaa4-17f0-4cbe-898a-71e4728bc39f",
   "metadata": {},
   "source": [
    "### 3.3. KNN:"
   ]
  },
  {
   "cell_type": "code",
   "execution_count": 243,
   "id": "22769926-8c59-4aed-9206-209f1c50374c",
   "metadata": {},
   "outputs": [],
   "source": [
    "from sklearn.neighbors import KNeighborsClassifier\n",
    "from sklearn.metrics import confusion_matrix"
   ]
  },
  {
   "cell_type": "code",
   "execution_count": 244,
   "id": "de3a04eb-08f7-476b-8d9d-ee77cdd7484b",
   "metadata": {},
   "outputs": [
    {
     "name": "stdout",
     "output_type": "stream",
     "text": [
      "The best parameters are {'n_neighbors': 10}\n",
      "Accuracy score for testing data:  0.8729166666666667\n",
      "f1 score for testing data:  0.6791971162800889\n"
     ]
    }
   ],
   "source": [
    "knn = KNeighborsClassifier()\n",
    "param_grid_3 = {'n_neighbors':np.arange(1,50)}\n",
    "\n",
    "clf, best_estimator = find_best_params(knn, param_grid_3, X_train, y_train, X_test, y_test)"
   ]
  },
  {
   "cell_type": "markdown",
   "id": "6ffc0a6d-fe25-404a-9521-bd30324b84de",
   "metadata": {},
   "source": [
    "#### Confusion matrix by best_estimator"
   ]
  },
  {
   "cell_type": "code",
   "execution_count": 245,
   "id": "e893427f-2d4a-4fec-83b2-ed2f7ac63bfb",
   "metadata": {},
   "outputs": [
    {
     "data": {
      "text/plain": [
       "Text(0.5, 15.0, 'Predicted label')"
      ]
     },
     "execution_count": 245,
     "metadata": {},
     "output_type": "execute_result"
    },
    {
     "data": {
      "image/png": "[encoded data removed]",
      "text/plain": [
       "<Figure size 432x288 with 2 Axes>"
      ]
     },
     "metadata": {
      "needs_background": "light"
     },
     "output_type": "display_data"
    }
   ],
   "source": [
    "y_pred_tree = best_estimator.predict(X_test)\n",
    "matrix = confusion_matrix(y_test, y_pred_tree)\n",
    "p = sb.heatmap(pd.DataFrame(matrix), annot=True, cmap=\"YlGnBu\" ,fmt='g')\n",
    "plt.title('Confusion matrix', y=1.1)\n",
    "plt.ylabel('Actual label')\n",
    "plt.xlabel('Predicted label')"
   ]
  },
  {
   "cell_type": "markdown",
   "id": "b8f0bb02-78b3-4ea0-bd1c-c877ac894f50",
   "metadata": {},
   "source": [
    "<font size=\"2\"> \n",
    "True Positive:\n",
    "\n",
    "Interpretation: You predicted positive and it’s true.\n",
    "\n",
    "True Negative:\n",
    "\n",
    "Interpretation: You predicted negative and it’s true.\n",
    "\n",
    "False Positive: (Type 1 Error)\n",
    "\n",
    "Interpretation: You predicted positive and it’s false.\n",
    "\n",
    "False Negative: (Type 2 Error)\n",
    "\n",
    "Interpretation: You predicted negative and it’s false\n",
    "</font>"
   ]
  },
  {
   "cell_type": "code",
   "execution_count": 133,
   "id": "518ca1cb-3257-41be-8749-d067c948bcae",
   "metadata": {},
   "outputs": [
    {
     "data": {
      "text/plain": [
       "(480,)"
      ]
     },
     "execution_count": 133,
     "metadata": {},
     "output_type": "execute_result"
    }
   ],
   "source": [
    "y_test.shape"
   ]
  },
  {
   "cell_type": "code",
   "execution_count": 246,
   "id": "249a6770-5aa9-4d8a-a6be-043cd986c74b",
   "metadata": {},
   "outputs": [
    {
     "data": {
      "text/plain": [
       "480"
      ]
     },
     "execution_count": 246,
     "metadata": {},
     "output_type": "execute_result"
    }
   ],
   "source": [
    "396 + 44 + 17 + 23"
   ]
  },
  {
   "cell_type": "markdown",
   "id": "583676f8-6db7-4b13-ab20-fab9a2c92f30",
   "metadata": {},
   "source": [
    " \n",
    "#### Getting score with different values of neighbors in KNN\n"
   ]
  },
  {
   "cell_type": "code",
   "execution_count": 247,
   "id": "97ce4705-887a-4dcb-a8ce-dcc64a224bfb",
   "metadata": {},
   "outputs": [],
   "source": [
    "test_score=[]\n",
    "train_score=[]\n",
    "for i in range (1, 50):\n",
    "    knn = KNeighborsClassifier(i)\n",
    "    knn.fit(X_train, y_train)\n",
    "    train_score.append(knn.score(X_train, y_train))\n",
    "    test_score.append(knn.score(X_test, y_test))"
   ]
  },
  {
   "cell_type": "code",
   "execution_count": 248,
   "id": "71304a35-c08c-413d-95ec-ff79b9fb5930",
   "metadata": {},
   "outputs": [],
   "source": [
    "max_train_score = max(train_score)"
   ]
  },
  {
   "cell_type": "code",
   "execution_count": 249,
   "id": "753934ec-3f97-447e-b7b8-2a0f2a94d272",
   "metadata": {},
   "outputs": [
    {
     "data": {
      "text/plain": [
       "1.0"
      ]
     },
     "execution_count": 249,
     "metadata": {},
     "output_type": "execute_result"
    }
   ],
   "source": [
    "max_train_score"
   ]
  },
  {
   "cell_type": "code",
   "execution_count": 250,
   "id": "6cb7932c-d0a5-4849-9705-da919b20442d",
   "metadata": {
    "tags": []
   },
   "outputs": [
    {
     "name": "stdout",
     "output_type": "stream",
     "text": [
      "Max train score when the number of neighbors is 1\n"
     ]
    }
   ],
   "source": [
    "for i in range(len(train_score)):\n",
    "    if i == max_train_score:\n",
    "        print(\"Max train score when the number of neighbors is {}\".format(i))"
   ]
  },
  {
   "cell_type": "code",
   "execution_count": 251,
   "id": "6a25073f-5c05-4e61-aeb4-271a57846685",
   "metadata": {},
   "outputs": [
    {
     "data": {
      "image/png": "[encoded data removed]",
      "text/plain": [
       "<Figure size 864x432 with 1 Axes>"
      ]
     },
     "metadata": {
      "needs_background": "light"
     },
     "output_type": "display_data"
    }
   ],
   "source": [
    "plt.figure(figsize=(12,6))\n",
    "p=sb.lineplot(range(1,50),train_score,marker=\"*\",label=\"Train Score\")\n",
    "p=sb.lineplot(range(1,50),test_score,marker=\"o\",label=\"Test Score\")"
   ]
  },
  {
   "cell_type": "markdown",
   "id": "014950f5-7868-4b8c-9d63-e26d596cb41e",
   "metadata": {},
   "source": [
    "#### Conclusion\n",
    "<font size=\"3\"> \n",
    "When the number of neighbors is 1, the KNN tends to closely follow the training data and thus shows a high training score. This is because the closest point to any training data point is itself. However, in comparison, the test score is quite low, thus indicating overfitting.\n",
    "</font>"
   ]
  },
  {
   "cell_type": "markdown",
   "id": "18df9300-cf72-4390-b233-6a94a210a2c0",
   "metadata": {},
   "source": [
    "### 3.4. Linear Regression:"
   ]
  },
  {
   "cell_type": "code",
   "execution_count": 252,
   "id": "62ca8e0a-0af1-45de-b811-2b76858fc611",
   "metadata": {},
   "outputs": [],
   "source": [
    "from sklearn.linear_model import LinearRegression"
   ]
  },
  {
   "cell_type": "code",
   "execution_count": 253,
   "id": "a44be725-edc9-44cd-b986-5e0f7bad4b6f",
   "metadata": {},
   "outputs": [],
   "source": [
    "lm = LinearRegression()"
   ]
  },
  {
   "cell_type": "code",
   "execution_count": 254,
   "id": "cf9394ec-284a-40bc-bc6e-3d39999734b7",
   "metadata": {},
   "outputs": [],
   "source": [
    "clf_lm = lm.fit(X_train, y_train)\n"
   ]
  },
  {
   "cell_type": "code",
   "execution_count": 255,
   "id": "1ebd794e-5dc2-4b6a-987f-a3853c791c9d",
   "metadata": {},
   "outputs": [
    {
     "data": {
      "text/plain": [
       "0.24256807146103043"
      ]
     },
     "execution_count": 255,
     "metadata": {},
     "output_type": "execute_result"
    }
   ],
   "source": [
    "clf_lm.score(X_test, y_test)"
   ]
  },
  {
   "cell_type": "markdown",
   "id": "41fcb3e5-dca0-4c11-87be-dc29f1806806",
   "metadata": {},
   "source": [
    "#### Conclusion\n",
    "<font size=\"3\"> \n",
    "The score of training this model using Linear Regression is very low, it means that Linear Regression is not good for training data in binary classification\n",
    "</font>"
   ]
  },
  {
   "cell_type": "code",
   "execution_count": 256,
   "id": "601e166e-258d-4f1d-87bb-e4e3aec123d5",
   "metadata": {},
   "outputs": [
    {
     "data": {
      "text/plain": [
       "array([[ 1.72830746, -0.94739106,  2.04627852, ..., -0.73807619,\n",
       "        -0.71883551,  1.36156659],\n",
       "       [-0.33533406,  0.17059533, -0.34573993, ...,  1.06789048,\n",
       "        -0.20280497, -1.05084572],\n",
       "       [ 0.75381007,  0.05879669,  0.79826889, ..., -0.73807619,\n",
       "         0.31322556,  0.89764115],\n",
       "       ...,\n",
       "       [-0.27801069,  1.59602797, -1.33374755, ...,  0.42290238,\n",
       "        -0.20280497,  0.34093061],\n",
       "       [ 1.72830746, -0.94739106,  2.04627852, ..., -0.73807619,\n",
       "        -0.71883551,  1.36156659],\n",
       "       [ 0.12325294, -1.05918969,  0.9022697 , ...,  1.32588572,\n",
       "        -0.14546824,  0.24814553]])"
      ]
     },
     "execution_count": 256,
     "metadata": {},
     "output_type": "execute_result"
    }
   ],
   "source": [
    "X_train"
   ]
  },
  {
   "cell_type": "code",
   "execution_count": null,
   "id": "70939dcb-5601-4f74-a19e-66220145a6fa",
   "metadata": {},
   "outputs": [],
   "source": []
  }
 ],
 "metadata": {
  "kernelspec": {
   "display_name": "Python 3 (ipykernel)",
   "language": "python",
   "name": "python3"
  },
  "language_info": {
   "codemirror_mode": {
    "name": "ipython",
    "version": 3
   },
   "file_extension": ".py",
   "mimetype": "text/x-python",
   "name": "python",
   "nbconvert_exporter": "python",
   "pygments_lexer": "ipython3",
   "version": "3.9.7"
  }
 },
 "nbformat": 4,
 "nbformat_minor": 5
}
